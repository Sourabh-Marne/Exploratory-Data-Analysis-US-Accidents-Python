{
 "cells": [
  {
   "cell_type": "markdown",
   "id": "a3533c5f",
   "metadata": {},
   "source": [
    "# US Accidents Exploratory Data Analysis"
   ]
  },
  {
   "cell_type": "markdown",
   "id": "1166dc57",
   "metadata": {},
   "source": [
    "About the Dataset:\n",
    "1. The dataset is downloaded from Kaggle\n",
    "2. It contains information about accidents in the US\n",
    "3. This data can be used for preventing accidents"
   ]
  },
  {
   "cell_type": "code",
   "execution_count": 1,
   "id": "5f83e91a",
   "metadata": {},
   "outputs": [],
   "source": [
    "import numpy as np\n",
    "import pandas as pd"
   ]
  },
  {
   "cell_type": "markdown",
   "id": "f7030a73",
   "metadata": {},
   "source": [
    "# Data Preparation and Cleaning"
   ]
  },
  {
   "cell_type": "markdown",
   "id": "b031a921",
   "metadata": {},
   "source": [
    "Steps:\n",
    "1. Load the Dataset using Pandas\n",
    "2. Understand the Data\n",
    "3. Fixing missing and incorret values"
   ]
  },
  {
   "cell_type": "code",
   "execution_count": 2,
   "id": "5e8a4a49",
   "metadata": {},
   "outputs": [],
   "source": [
    "df = pd.read_csv(\"US_Accidents_Dec20_updated.csv\")"
   ]
  },
  {
   "cell_type": "code",
   "execution_count": 3,
   "id": "42d490ae",
   "metadata": {},
   "outputs": [
    {
     "name": "stdout",
     "output_type": "stream",
     "text": [
      "Number of rows: 1516064\n",
      "Number of columns: 47\n"
     ]
    }
   ],
   "source": [
    "r,c = df.shape #Finding out the number of rows and columns\n",
    "print(\"Number of rows:\",r)\n",
    "print(\"Number of columns:\",c)"
   ]
  },
  {
   "cell_type": "code",
   "execution_count": 4,
   "id": "9ab00f01",
   "metadata": {},
   "outputs": [
    {
     "name": "stdout",
     "output_type": "stream",
     "text": [
      "<class 'pandas.core.frame.DataFrame'>\n",
      "RangeIndex: 1516064 entries, 0 to 1516063\n",
      "Data columns (total 47 columns):\n",
      " #   Column                 Non-Null Count    Dtype  \n",
      "---  ------                 --------------    -----  \n",
      " 0   ID                     1516064 non-null  object \n",
      " 1   Severity               1516064 non-null  int64  \n",
      " 2   Start_Time             1516064 non-null  object \n",
      " 3   End_Time               1516064 non-null  object \n",
      " 4   Start_Lat              1516064 non-null  float64\n",
      " 5   Start_Lng              1516064 non-null  float64\n",
      " 6   End_Lat                1516064 non-null  float64\n",
      " 7   End_Lng                1516064 non-null  float64\n",
      " 8   Distance(mi)           1516064 non-null  float64\n",
      " 9   Description            1516064 non-null  object \n",
      " 10  Number                 469969 non-null   float64\n",
      " 11  Street                 1516064 non-null  object \n",
      " 12  Side                   1516064 non-null  object \n",
      " 13  City                   1515981 non-null  object \n",
      " 14  County                 1516064 non-null  object \n",
      " 15  State                  1516064 non-null  object \n",
      " 16  Zipcode                1515129 non-null  object \n",
      " 17  Country                1516064 non-null  object \n",
      " 18  Timezone               1513762 non-null  object \n",
      " 19  Airport_Code           1511816 non-null  object \n",
      " 20  Weather_Timestamp      1485800 non-null  object \n",
      " 21  Temperature(F)         1473031 non-null  float64\n",
      " 22  Wind_Chill(F)          1066748 non-null  float64\n",
      " 23  Humidity(%)            1470555 non-null  float64\n",
      " 24  Pressure(in)           1479790 non-null  float64\n",
      " 25  Visibility(mi)         1471853 non-null  float64\n",
      " 26  Wind_Direction         1474206 non-null  object \n",
      " 27  Wind_Speed(mph)        1387202 non-null  float64\n",
      " 28  Precipitation(in)      1005515 non-null  float64\n",
      " 29  Weather_Condition      1472057 non-null  object \n",
      " 30  Amenity                1516064 non-null  bool   \n",
      " 31  Bump                   1516064 non-null  bool   \n",
      " 32  Crossing               1516064 non-null  bool   \n",
      " 33  Give_Way               1516064 non-null  bool   \n",
      " 34  Junction               1516064 non-null  bool   \n",
      " 35  No_Exit                1516064 non-null  bool   \n",
      " 36  Railway                1516064 non-null  bool   \n",
      " 37  Roundabout             1516064 non-null  bool   \n",
      " 38  Station                1516064 non-null  bool   \n",
      " 39  Stop                   1516064 non-null  bool   \n",
      " 40  Traffic_Calming        1516064 non-null  bool   \n",
      " 41  Traffic_Signal         1516064 non-null  bool   \n",
      " 42  Turning_Loop           1516064 non-null  bool   \n",
      " 43  Sunrise_Sunset         1515981 non-null  object \n",
      " 44  Civil_Twilight         1515981 non-null  object \n",
      " 45  Nautical_Twilight      1515981 non-null  object \n",
      " 46  Astronomical_Twilight  1515981 non-null  object \n",
      "dtypes: bool(13), float64(13), int64(1), object(20)\n",
      "memory usage: 412.1+ MB\n"
     ]
    }
   ],
   "source": [
    "df.info() #Understanding details about every column in the data"
   ]
  },
  {
   "cell_type": "code",
   "execution_count": 5,
   "id": "fc013a95",
   "metadata": {},
   "outputs": [
    {
     "data": {
      "text/html": [
       "<div>\n",
       "<style scoped>\n",
       "    .dataframe tbody tr th:only-of-type {\n",
       "        vertical-align: middle;\n",
       "    }\n",
       "\n",
       "    .dataframe tbody tr th {\n",
       "        vertical-align: top;\n",
       "    }\n",
       "\n",
       "    .dataframe thead th {\n",
       "        text-align: right;\n",
       "    }\n",
       "</style>\n",
       "<table border=\"1\" class=\"dataframe\">\n",
       "  <thead>\n",
       "    <tr style=\"text-align: right;\">\n",
       "      <th></th>\n",
       "      <th>count</th>\n",
       "      <th>mean</th>\n",
       "      <th>std</th>\n",
       "      <th>min</th>\n",
       "      <th>25%</th>\n",
       "      <th>50%</th>\n",
       "      <th>75%</th>\n",
       "      <th>max</th>\n",
       "    </tr>\n",
       "  </thead>\n",
       "  <tbody>\n",
       "    <tr>\n",
       "      <th>Severity</th>\n",
       "      <td>1516064.0</td>\n",
       "      <td>2.238630</td>\n",
       "      <td>0.608148</td>\n",
       "      <td>1.000000</td>\n",
       "      <td>2.000000</td>\n",
       "      <td>2.000000</td>\n",
       "      <td>2.000000</td>\n",
       "      <td>4.000000e+00</td>\n",
       "    </tr>\n",
       "    <tr>\n",
       "      <th>Start_Lat</th>\n",
       "      <td>1516064.0</td>\n",
       "      <td>36.900558</td>\n",
       "      <td>5.165653</td>\n",
       "      <td>24.570222</td>\n",
       "      <td>33.854225</td>\n",
       "      <td>37.351130</td>\n",
       "      <td>40.725927</td>\n",
       "      <td>4.900058e+01</td>\n",
       "    </tr>\n",
       "    <tr>\n",
       "      <th>Start_Lng</th>\n",
       "      <td>1516064.0</td>\n",
       "      <td>-98.599194</td>\n",
       "      <td>18.496022</td>\n",
       "      <td>-124.497567</td>\n",
       "      <td>-118.207575</td>\n",
       "      <td>-94.381003</td>\n",
       "      <td>-80.874690</td>\n",
       "      <td>-6.711317e+01</td>\n",
       "    </tr>\n",
       "    <tr>\n",
       "      <th>End_Lat</th>\n",
       "      <td>1516064.0</td>\n",
       "      <td>36.900606</td>\n",
       "      <td>5.165629</td>\n",
       "      <td>24.570110</td>\n",
       "      <td>33.854204</td>\n",
       "      <td>37.351342</td>\n",
       "      <td>40.725930</td>\n",
       "      <td>4.907500e+01</td>\n",
       "    </tr>\n",
       "    <tr>\n",
       "      <th>End_Lng</th>\n",
       "      <td>1516064.0</td>\n",
       "      <td>-98.599010</td>\n",
       "      <td>18.495903</td>\n",
       "      <td>-124.497829</td>\n",
       "      <td>-118.207746</td>\n",
       "      <td>-94.379875</td>\n",
       "      <td>-80.874490</td>\n",
       "      <td>-6.710924e+01</td>\n",
       "    </tr>\n",
       "    <tr>\n",
       "      <th>Distance(mi)</th>\n",
       "      <td>1516064.0</td>\n",
       "      <td>0.587262</td>\n",
       "      <td>1.632659</td>\n",
       "      <td>0.000000</td>\n",
       "      <td>0.000000</td>\n",
       "      <td>0.178000</td>\n",
       "      <td>0.594000</td>\n",
       "      <td>1.551860e+02</td>\n",
       "    </tr>\n",
       "    <tr>\n",
       "      <th>Number</th>\n",
       "      <td>469969.0</td>\n",
       "      <td>8907.533114</td>\n",
       "      <td>22421.896710</td>\n",
       "      <td>0.000000</td>\n",
       "      <td>1212.000000</td>\n",
       "      <td>4000.000000</td>\n",
       "      <td>10100.000000</td>\n",
       "      <td>9.999997e+06</td>\n",
       "    </tr>\n",
       "    <tr>\n",
       "      <th>Temperature(F)</th>\n",
       "      <td>1473031.0</td>\n",
       "      <td>59.584597</td>\n",
       "      <td>18.273164</td>\n",
       "      <td>-89.000000</td>\n",
       "      <td>47.000000</td>\n",
       "      <td>61.000000</td>\n",
       "      <td>73.000000</td>\n",
       "      <td>1.706000e+02</td>\n",
       "    </tr>\n",
       "    <tr>\n",
       "      <th>Wind_Chill(F)</th>\n",
       "      <td>1066748.0</td>\n",
       "      <td>55.109760</td>\n",
       "      <td>21.127345</td>\n",
       "      <td>-89.000000</td>\n",
       "      <td>40.800000</td>\n",
       "      <td>57.000000</td>\n",
       "      <td>71.000000</td>\n",
       "      <td>1.130000e+02</td>\n",
       "    </tr>\n",
       "    <tr>\n",
       "      <th>Humidity(%)</th>\n",
       "      <td>1470555.0</td>\n",
       "      <td>64.659601</td>\n",
       "      <td>23.259865</td>\n",
       "      <td>1.000000</td>\n",
       "      <td>48.000000</td>\n",
       "      <td>68.000000</td>\n",
       "      <td>84.000000</td>\n",
       "      <td>1.000000e+02</td>\n",
       "    </tr>\n",
       "    <tr>\n",
       "      <th>Pressure(in)</th>\n",
       "      <td>1479790.0</td>\n",
       "      <td>29.554954</td>\n",
       "      <td>1.016756</td>\n",
       "      <td>0.000000</td>\n",
       "      <td>29.440000</td>\n",
       "      <td>29.880000</td>\n",
       "      <td>30.040000</td>\n",
       "      <td>5.804000e+01</td>\n",
       "    </tr>\n",
       "    <tr>\n",
       "      <th>Visibility(mi)</th>\n",
       "      <td>1471853.0</td>\n",
       "      <td>9.131755</td>\n",
       "      <td>2.889112</td>\n",
       "      <td>0.000000</td>\n",
       "      <td>10.000000</td>\n",
       "      <td>10.000000</td>\n",
       "      <td>10.000000</td>\n",
       "      <td>1.400000e+02</td>\n",
       "    </tr>\n",
       "    <tr>\n",
       "      <th>Wind_Speed(mph)</th>\n",
       "      <td>1387202.0</td>\n",
       "      <td>7.630812</td>\n",
       "      <td>5.637364</td>\n",
       "      <td>0.000000</td>\n",
       "      <td>4.600000</td>\n",
       "      <td>7.000000</td>\n",
       "      <td>10.400000</td>\n",
       "      <td>9.840000e+02</td>\n",
       "    </tr>\n",
       "    <tr>\n",
       "      <th>Precipitation(in)</th>\n",
       "      <td>1005515.0</td>\n",
       "      <td>0.008478</td>\n",
       "      <td>0.129317</td>\n",
       "      <td>0.000000</td>\n",
       "      <td>0.000000</td>\n",
       "      <td>0.000000</td>\n",
       "      <td>0.000000</td>\n",
       "      <td>2.400000e+01</td>\n",
       "    </tr>\n",
       "  </tbody>\n",
       "</table>\n",
       "</div>"
      ],
      "text/plain": [
       "                       count         mean           std         min  \\\n",
       "Severity           1516064.0     2.238630      0.608148    1.000000   \n",
       "Start_Lat          1516064.0    36.900558      5.165653   24.570222   \n",
       "Start_Lng          1516064.0   -98.599194     18.496022 -124.497567   \n",
       "End_Lat            1516064.0    36.900606      5.165629   24.570110   \n",
       "End_Lng            1516064.0   -98.599010     18.495903 -124.497829   \n",
       "Distance(mi)       1516064.0     0.587262      1.632659    0.000000   \n",
       "Number              469969.0  8907.533114  22421.896710    0.000000   \n",
       "Temperature(F)     1473031.0    59.584597     18.273164  -89.000000   \n",
       "Wind_Chill(F)      1066748.0    55.109760     21.127345  -89.000000   \n",
       "Humidity(%)        1470555.0    64.659601     23.259865    1.000000   \n",
       "Pressure(in)       1479790.0    29.554954      1.016756    0.000000   \n",
       "Visibility(mi)     1471853.0     9.131755      2.889112    0.000000   \n",
       "Wind_Speed(mph)    1387202.0     7.630812      5.637364    0.000000   \n",
       "Precipitation(in)  1005515.0     0.008478      0.129317    0.000000   \n",
       "\n",
       "                           25%          50%           75%           max  \n",
       "Severity              2.000000     2.000000      2.000000  4.000000e+00  \n",
       "Start_Lat            33.854225    37.351130     40.725927  4.900058e+01  \n",
       "Start_Lng          -118.207575   -94.381003    -80.874690 -6.711317e+01  \n",
       "End_Lat              33.854204    37.351342     40.725930  4.907500e+01  \n",
       "End_Lng            -118.207746   -94.379875    -80.874490 -6.710924e+01  \n",
       "Distance(mi)          0.000000     0.178000      0.594000  1.551860e+02  \n",
       "Number             1212.000000  4000.000000  10100.000000  9.999997e+06  \n",
       "Temperature(F)       47.000000    61.000000     73.000000  1.706000e+02  \n",
       "Wind_Chill(F)        40.800000    57.000000     71.000000  1.130000e+02  \n",
       "Humidity(%)          48.000000    68.000000     84.000000  1.000000e+02  \n",
       "Pressure(in)         29.440000    29.880000     30.040000  5.804000e+01  \n",
       "Visibility(mi)       10.000000    10.000000     10.000000  1.400000e+02  \n",
       "Wind_Speed(mph)       4.600000     7.000000     10.400000  9.840000e+02  \n",
       "Precipitation(in)     0.000000     0.000000      0.000000  2.400000e+01  "
      ]
     },
     "execution_count": 5,
     "metadata": {},
     "output_type": "execute_result"
    }
   ],
   "source": [
    "df.describe().T #Understanding statistics of the Data"
   ]
  },
  {
   "cell_type": "code",
   "execution_count": 6,
   "id": "10060d79",
   "metadata": {},
   "outputs": [
    {
     "name": "stdout",
     "output_type": "stream",
     "text": [
      "Number of Numerical Columns: 27\n"
     ]
    }
   ],
   "source": [
    "print(\"Number of Numerical Columns:\", len(df.count(numeric_only=True)))"
   ]
  },
  {
   "cell_type": "code",
   "execution_count": 7,
   "id": "3efce8c4",
   "metadata": {},
   "outputs": [
    {
     "name": "stdout",
     "output_type": "stream",
     "text": [
      "Percentage of Missing values:\n",
      "\n",
      " Number                   69.000715\n",
      "Precipitation(in)        33.675953\n",
      "Wind_Chill(F)            29.637007\n",
      "Wind_Speed(mph)           8.499773\n",
      "Humidity(%)               3.001786\n",
      "Visibility(mi)            2.916170\n",
      "Weather_Condition         2.902714\n",
      "Temperature(F)            2.838469\n",
      "Wind_Direction            2.760965\n",
      "Pressure(in)              2.392643\n",
      "Weather_Timestamp         1.996222\n",
      "Airport_Code              0.280199\n",
      "Timezone                  0.151841\n",
      "Zipcode                   0.061673\n",
      "Sunrise_Sunset            0.005475\n",
      "Civil_Twilight            0.005475\n",
      "Nautical_Twilight         0.005475\n",
      "Astronomical_Twilight     0.005475\n",
      "City                      0.005475\n",
      "Country                   0.000000\n",
      "Give_Way                  0.000000\n",
      "Start_Time                0.000000\n",
      "End_Time                  0.000000\n",
      "Start_Lat                 0.000000\n",
      "Turning_Loop              0.000000\n",
      "Traffic_Signal            0.000000\n",
      "Traffic_Calming           0.000000\n",
      "Stop                      0.000000\n",
      "Station                   0.000000\n",
      "Roundabout                0.000000\n",
      "Railway                   0.000000\n",
      "No_Exit                   0.000000\n",
      "Junction                  0.000000\n",
      "Crossing                  0.000000\n",
      "State                     0.000000\n",
      "Bump                      0.000000\n",
      "Amenity                   0.000000\n",
      "Start_Lng                 0.000000\n",
      "End_Lat                   0.000000\n",
      "End_Lng                   0.000000\n",
      "Distance(mi)              0.000000\n",
      "Description               0.000000\n",
      "Street                    0.000000\n",
      "Severity                  0.000000\n",
      "Side                      0.000000\n",
      "County                    0.000000\n",
      "ID                        0.000000\n",
      "dtype: float64\n"
     ]
    }
   ],
   "source": [
    "No_of_missing_vals = df.isna().sum().sort_values(ascending=False) #in descending order\n",
    "missing_val_percentages = No_of_missing_vals/len(df)*100\n",
    "print(\"Percentage of Missing values:\\n\\n\",missing_val_percentages)"
   ]
  },
  {
   "cell_type": "code",
   "execution_count": 8,
   "id": "5ae4f0b8",
   "metadata": {},
   "outputs": [
    {
     "data": {
      "text/plain": [
       "Number                   69.000715\n",
       "Precipitation(in)        33.675953\n",
       "Wind_Chill(F)            29.637007\n",
       "Wind_Speed(mph)           8.499773\n",
       "Humidity(%)               3.001786\n",
       "Visibility(mi)            2.916170\n",
       "Weather_Condition         2.902714\n",
       "Temperature(F)            2.838469\n",
       "Wind_Direction            2.760965\n",
       "Pressure(in)              2.392643\n",
       "Weather_Timestamp         1.996222\n",
       "Airport_Code              0.280199\n",
       "Timezone                  0.151841\n",
       "Zipcode                   0.061673\n",
       "Sunrise_Sunset            0.005475\n",
       "Civil_Twilight            0.005475\n",
       "Nautical_Twilight         0.005475\n",
       "Astronomical_Twilight     0.005475\n",
       "City                      0.005475\n",
       "dtype: float64"
      ]
     },
     "execution_count": 8,
     "metadata": {},
     "output_type": "execute_result"
    }
   ],
   "source": [
    "missing_val_percentages = missing_val_percentages[missing_val_percentages !=0 ]\n",
    "#removing the columns with zero percent missing values\n",
    "missing_val_percentages"
   ]
  },
  {
   "cell_type": "code",
   "execution_count": 9,
   "id": "e7d6ba03",
   "metadata": {},
   "outputs": [
    {
     "data": {
      "text/plain": [
       "<AxesSubplot:>"
      ]
     },
     "execution_count": 9,
     "metadata": {},
     "output_type": "execute_result"
    },
    {
     "data": {
      "image/png": "[encoded data removed]",
      "text/plain": [
       "<Figure size 432x288 with 1 Axes>"
      ]
     },
     "metadata": {
      "needs_background": "light"
     },
     "output_type": "display_data"
    }
   ],
   "source": [
    "missing_val_percentages.plot(kind=\"barh\")"
   ]
  },
  {
   "cell_type": "markdown",
   "id": "56f14925",
   "metadata": {},
   "source": [
    "Dropping first 3 columns because of high percentage of missing data"
   ]
  },
  {
   "cell_type": "code",
   "execution_count": 10,
   "id": "1594b7d6",
   "metadata": {},
   "outputs": [],
   "source": [
    "df = df.drop(columns=[\"Number\", \"Precipitation(in)\", \"Wind_Chill(F)\"], axis=0)"
   ]
  },
  {
   "cell_type": "code",
   "execution_count": 11,
   "id": "6ced1300",
   "metadata": {},
   "outputs": [
    {
     "name": "stdout",
     "output_type": "stream",
     "text": [
      "Available Data to analyze with Missing Data percentage:\n",
      "\n",
      " Wind_Speed(mph)          8.499773\n",
      "Humidity(%)              3.001786\n",
      "Visibility(mi)           2.916170\n",
      "Weather_Condition        2.902714\n",
      "Temperature(F)           2.838469\n",
      "Wind_Direction           2.760965\n",
      "Pressure(in)             2.392643\n",
      "Weather_Timestamp        1.996222\n",
      "Airport_Code             0.280199\n",
      "Timezone                 0.151841\n",
      "Zipcode                  0.061673\n",
      "Nautical_Twilight        0.005475\n",
      "Civil_Twilight           0.005475\n",
      "Sunrise_Sunset           0.005475\n",
      "Astronomical_Twilight    0.005475\n",
      "City                     0.005475\n",
      "dtype: float64\n"
     ]
    }
   ],
   "source": [
    "No_of_missing_vals = df.isna().sum().sort_values(ascending=False) #in descending order\n",
    "missing_val_percentages = No_of_missing_vals/len(df)*100\n",
    "missing_val_percentages = missing_val_percentages[missing_val_percentages !=0 ]\n",
    "print(\"Available Data to analyze with Missing Data percentage:\\n\\n\",missing_val_percentages)"
   ]
  },
  {
   "cell_type": "markdown",
   "id": "abbf0893",
   "metadata": {},
   "source": [
    "# Exploratory Analysis and Visualisation"
   ]
  },
  {
   "cell_type": "markdown",
   "id": "72486389",
   "metadata": {},
   "source": [
    "# City"
   ]
  },
  {
   "cell_type": "code",
   "execution_count": 12,
   "id": "5eee4d88",
   "metadata": {},
   "outputs": [
    {
     "name": "stdout",
     "output_type": "stream",
     "text": [
      "Total number of cities: 10658\n"
     ]
    }
   ],
   "source": [
    "cities = df.City.unique()\n",
    "print(\"Total number of cities:\",len(cities))"
   ]
  },
  {
   "cell_type": "code",
   "execution_count": 13,
   "id": "f55ce432",
   "metadata": {},
   "outputs": [
    {
     "name": "stdout",
     "output_type": "stream",
     "text": [
      "Top 20 cities with highest accidents:\n"
     ]
    },
    {
     "data": {
      "text/plain": [
       "Los Angeles     39984\n",
       "Miami           36233\n",
       "Charlotte       22203\n",
       "Houston         20843\n",
       "Dallas          19497\n",
       "Sacramento      18431\n",
       "Orlando         16169\n",
       "Portland        14805\n",
       "San Diego       14090\n",
       "Minneapolis     12653\n",
       "Atlanta         11854\n",
       "Chicago         11507\n",
       "Saint Paul      10084\n",
       "Phoenix          9934\n",
       "Raleigh          9516\n",
       "San Jose         9362\n",
       "Richmond         8472\n",
       "Nashville        8381\n",
       "Riverside        8201\n",
       "Jacksonville     7815\n",
       "Name: City, dtype: int64"
      ]
     },
     "execution_count": 13,
     "metadata": {},
     "output_type": "execute_result"
    }
   ],
   "source": [
    "cities_by_accidents = df.City.value_counts() #get number of occurences of cities in each row\n",
    "print(\"Top 20 cities with highest accidents:\")\n",
    "cities_by_accidents[:20]"
   ]
  },
  {
   "cell_type": "markdown",
   "id": "76cf72ef",
   "metadata": {},
   "source": [
    "New york being one of the highly populated cities is not in the list. Need to study more."
   ]
  },
  {
   "cell_type": "code",
   "execution_count": 14,
   "id": "b87dd223",
   "metadata": {},
   "outputs": [
    {
     "name": "stdout",
     "output_type": "stream",
     "text": [
      "Highest Accidents respective to Cities:\n"
     ]
    },
    {
     "data": {
      "text/plain": [
       "<AxesSubplot:>"
      ]
     },
     "execution_count": 14,
     "metadata": {},
     "output_type": "execute_result"
    },
    {
     "data": {
      "image/png": "[encoded data removed]",
      "text/plain": [
       "<Figure size 432x288 with 1 Axes>"
      ]
     },
     "metadata": {
      "needs_background": "light"
     },
     "output_type": "display_data"
    }
   ],
   "source": [
    "print(\"Highest Accidents respective to Cities:\")\n",
    "cities_by_accidents[:20].plot(kind=\"barh\")"
   ]
  },
  {
   "cell_type": "code",
   "execution_count": 15,
   "id": "97b70eea",
   "metadata": {},
   "outputs": [],
   "source": [
    "import seaborn as sns\n",
    "sns.set_style(\"darkgrid\")"
   ]
  },
  {
   "cell_type": "code",
   "execution_count": 16,
   "id": "373c11e4",
   "metadata": {},
   "outputs": [
    {
     "name": "stdout",
     "output_type": "stream",
     "text": [
      "The mean accident value is: 142.24657534246575\n"
     ]
    }
   ],
   "source": [
    "total_accidents = r\n",
    "total_cities = len(cities)\n",
    "mean_value_accidents = total_accidents/total_cities\n",
    "print(\"The mean accident value is:\",mean_value_accidents)"
   ]
  },
  {
   "cell_type": "code",
   "execution_count": 17,
   "id": "6a795956",
   "metadata": {},
   "outputs": [],
   "source": [
    "higher_accident_cities = cities_by_accidents[cities_by_accidents>142]\n",
    "lower_accident_cities = cities_by_accidents[cities_by_accidents<=142]"
   ]
  },
  {
   "cell_type": "code",
   "execution_count": 18,
   "id": "ac973bab",
   "metadata": {},
   "outputs": [
    {
     "name": "stdout",
     "output_type": "stream",
     "text": [
      "Percentage of cities with accidents higher than mean accident value 142:  14.608744604991555\n",
      "Percentage of cities with accidents lower than mean accident value 142:  85.38187277162694\n"
     ]
    }
   ],
   "source": [
    "p = (len(higher_accident_cities)/len(cities))*100\n",
    "print(\"Percentage of cities with accidents higher than mean accident value 142: \",p)\n",
    "p = (len(lower_accident_cities)/len(cities))*100\n",
    "print(\"Percentage of cities with accidents lower than mean accident value 142: \",p)"
   ]
  },
  {
   "cell_type": "markdown",
   "id": "2ea52da2",
   "metadata": {},
   "source": [
    "Less than 15 % of cities have more than mean accident value. As we do not have any data about population we cannot compute the accident rate per city, but can still include this in further study."
   ]
  },
  {
   "cell_type": "code",
   "execution_count": 19,
   "id": "33404c79",
   "metadata": {},
   "outputs": [
    {
     "name": "stdout",
     "output_type": "stream",
     "text": [
      "Graph representing number of accidents per city\n"
     ]
    },
    {
     "data": {
      "text/plain": [
       "<AxesSubplot:xlabel='City', ylabel='Count'>"
      ]
     },
     "execution_count": 19,
     "metadata": {},
     "output_type": "execute_result"
    },
    {
     "data": {
      "image/png": "[encoded data removed]",
      "text/plain": [
       "<Figure size 432x288 with 1 Axes>"
      ]
     },
     "metadata": {},
     "output_type": "display_data"
    }
   ],
   "source": [
    "print(\"Graph representing number of accidents per city\")\n",
    "sns.histplot(cities_by_accidents,log_scale=True)"
   ]
  },
  {
   "cell_type": "markdown",
   "id": "a908518a",
   "metadata": {},
   "source": [
    "Observation: Most of the accidents occur in a fixed small group of cities which is very high and make the data skewed in one direction."
   ]
  },
  {
   "cell_type": "code",
   "execution_count": 20,
   "id": "b734dec3",
   "metadata": {},
   "outputs": [
    {
     "name": "stdout",
     "output_type": "stream",
     "text": [
      "Count of cities with just 1 accident:  1167\n",
      "Percentage of cities with just 1 accident:  10.949521486207543\n"
     ]
    }
   ],
   "source": [
    "one_acc_cities = cities_by_accidents[cities_by_accidents == 1]\n",
    "print(\"Count of cities with just 1 accident: \",len(one_acc_cities))\n",
    "print(\"Percentage of cities with just 1 accident: \",(len(one_acc_cities)/len(cities))*100)"
   ]
  },
  {
   "cell_type": "markdown",
   "id": "45015eae",
   "metadata": {},
   "source": [
    "# Start Time"
   ]
  },
  {
   "cell_type": "code",
   "execution_count": 21,
   "id": "cae59502",
   "metadata": {},
   "outputs": [],
   "source": [
    "df.Start_Time = pd.to_datetime(df.Start_Time) # converting strings to timestamp object\n",
    "acc_time_hour = df.Start_Time.dt.hour # get the hour"
   ]
  },
  {
   "cell_type": "code",
   "execution_count": 22,
   "id": "87f73176",
   "metadata": {},
   "outputs": [
    {
     "name": "stdout",
     "output_type": "stream",
     "text": [
      "Graph showing Hourly accidents:\n"
     ]
    },
    {
     "data": {
      "text/plain": [
       "<AxesSubplot:xlabel='Start_Time', ylabel='Count'>"
      ]
     },
     "execution_count": 22,
     "metadata": {},
     "output_type": "execute_result"
    },
    {
     "data": {
      "image/png": "[encoded data removed]",
      "text/plain": [
       "<Figure size 432x288 with 1 Axes>"
      ]
     },
     "metadata": {},
     "output_type": "display_data"
    }
   ],
   "source": [
    "print(\"Graph showing Hourly accidents:\")\n",
    "sns.histplot(acc_time_hour, bins=24) # plot hourly accidents"
   ]
  },
  {
   "cell_type": "markdown",
   "id": "66b9f883",
   "metadata": {},
   "source": [
    "Observation:\n",
    "The number of accidents peak from 4 to 6 pm in the evening. Next highest percentage is observed from morning 7 to 9 am."
   ]
  },
  {
   "cell_type": "code",
   "execution_count": 23,
   "id": "c88e1ad3",
   "metadata": {},
   "outputs": [
    {
     "name": "stdout",
     "output_type": "stream",
     "text": [
      "Graphy showing weekly accidents:\n"
     ]
    },
    {
     "data": {
      "text/plain": [
       "<AxesSubplot:xlabel='Start_Time', ylabel='Count'>"
      ]
     },
     "execution_count": 23,
     "metadata": {},
     "output_type": "execute_result"
    },
    {
     "data": {
      "image/png": "[encoded data removed]",
      "text/plain": [
       "<Figure size 432x288 with 1 Axes>"
      ]
     },
     "metadata": {},
     "output_type": "display_data"
    }
   ],
   "source": [
    "acc_week_occured = df.Start_Time.dt.dayofweek # get the week\n",
    "print(\"Graphy showing weekly accidents:\")\n",
    "sns.histplot(acc_week_occured, bins=7) # plot hourly accidents"
   ]
  },
  {
   "cell_type": "markdown",
   "id": "a27bfca8",
   "metadata": {},
   "source": [
    "Observation:\n",
    "As we can see major accidents occur in the weekdays."
   ]
  },
  {
   "cell_type": "markdown",
   "id": "a5a14a63",
   "metadata": {},
   "source": [
    "# Observing the trends in accident timings on week days and weekends"
   ]
  },
  {
   "cell_type": "code",
   "execution_count": 24,
   "id": "ceb99a0f",
   "metadata": {},
   "outputs": [
    {
     "name": "stdout",
     "output_type": "stream",
     "text": [
      "Hourly Accidents on Weekends:\n"
     ]
    },
    {
     "data": {
      "text/plain": [
       "<AxesSubplot:xlabel='Start_Time', ylabel='Count'>"
      ]
     },
     "execution_count": 24,
     "metadata": {},
     "output_type": "execute_result"
    },
    {
     "data": {
      "image/png": "[encoded data removed]",
      "text/plain": [
       "<Figure size 432x288 with 1 Axes>"
      ]
     },
     "metadata": {},
     "output_type": "display_data"
    }
   ],
   "source": [
    "sat_acc_times = df.Start_Time[df.Start_Time.dt.dayofweek==5]\n",
    "sun_acc_times = df.Start_Time[df.Start_Time.dt.dayofweek==6]\n",
    "weekends_acc_times = pd.concat([sat_acc_times, sun_acc_times], axis=0)\n",
    "print(\"Hourly Accidents on Weekends:\")\n",
    "sns.histplot(weekends_acc_times.dt.hour, bins=24) # plot hourly accidents"
   ]
  },
  {
   "cell_type": "code",
   "execution_count": 25,
   "id": "a118ff07",
   "metadata": {},
   "outputs": [
    {
     "name": "stdout",
     "output_type": "stream",
     "text": [
      "Hourly Accidents on Mondays:\n"
     ]
    },
    {
     "data": {
      "text/plain": [
       "<AxesSubplot:xlabel='Start_Time', ylabel='Count'>"
      ]
     },
     "execution_count": 25,
     "metadata": {},
     "output_type": "execute_result"
    },
    {
     "data": {
      "image/png": "[encoded data removed]",
      "text/plain": [
       "<Figure size 432x288 with 1 Axes>"
      ]
     },
     "metadata": {},
     "output_type": "display_data"
    }
   ],
   "source": [
    "mon_acc_times = df.Start_Time[df.Start_Time.dt.dayofweek==0]\n",
    "print(\"Hourly Accidents on Mondays:\")\n",
    "sns.histplot(mon_acc_times.dt.hour, bins=24) # plot hourly accidents"
   ]
  },
  {
   "cell_type": "code",
   "execution_count": 26,
   "id": "dc0d260d",
   "metadata": {},
   "outputs": [
    {
     "name": "stdout",
     "output_type": "stream",
     "text": [
      "Hourly Accidents on Thursdays:\n"
     ]
    },
    {
     "data": {
      "text/plain": [
       "<AxesSubplot:xlabel='Start_Time', ylabel='Count'>"
      ]
     },
     "execution_count": 26,
     "metadata": {},
     "output_type": "execute_result"
    },
    {
     "data": {
      "image/png": "[encoded data removed]",
      "text/plain": [
       "<Figure size 432x288 with 1 Axes>"
      ]
     },
     "metadata": {},
     "output_type": "display_data"
    }
   ],
   "source": [
    "thurs_acc_times = df.Start_Time[df.Start_Time.dt.dayofweek==3]\n",
    "print(\"Hourly Accidents on Thursdays:\")\n",
    "sns.histplot(thurs_acc_times.dt.hour, bins=24) # plot hourly accidents"
   ]
  },
  {
   "cell_type": "markdown",
   "id": "fb542438",
   "metadata": {},
   "source": [
    "# Monthly Analysis"
   ]
  },
  {
   "cell_type": "code",
   "execution_count": 27,
   "id": "a9f53f98",
   "metadata": {},
   "outputs": [
    {
     "data": {
      "text/plain": [
       "<AxesSubplot:xlabel='Start_Time', ylabel='Count'>"
      ]
     },
     "execution_count": 27,
     "metadata": {},
     "output_type": "execute_result"
    },
    {
     "data": {
      "image/png": "[encoded data removed]",
      "text/plain": [
       "<Figure size 432x288 with 1 Axes>"
      ]
     },
     "metadata": {},
     "output_type": "display_data"
    }
   ],
   "source": [
    "acc_monthly_occured_2019 = df[df.Start_Time.dt.year == 2019] # get the year 2019\n",
    "sns.histplot(acc_monthly_occured_2019.Start_Time.dt.month, bins=12) # plot monthly accidents"
   ]
  },
  {
   "cell_type": "code",
   "execution_count": 28,
   "id": "0101ec47",
   "metadata": {},
   "outputs": [
    {
     "data": {
      "text/plain": [
       "<AxesSubplot:xlabel='Start_Time', ylabel='Count'>"
      ]
     },
     "execution_count": 28,
     "metadata": {},
     "output_type": "execute_result"
    },
    {
     "data": {
      "image/png": "[encoded data removed]",
      "text/plain": [
       "<Figure size 432x288 with 1 Axes>"
      ]
     },
     "metadata": {},
     "output_type": "display_data"
    }
   ],
   "source": [
    "acc_monthly_occured_2017 = df[df.Start_Time.dt.year == 2017] # get the year 2017\n",
    "sns.histplot(acc_monthly_occured_2017.Start_Time.dt.month, bins=12) # plot monthly accidents"
   ]
  },
  {
   "cell_type": "code",
   "execution_count": 29,
   "id": "742e1f68",
   "metadata": {},
   "outputs": [
    {
     "data": {
      "text/plain": [
       "<AxesSubplot:xlabel='Start_Time', ylabel='Count'>"
      ]
     },
     "execution_count": 29,
     "metadata": {},
     "output_type": "execute_result"
    },
    {
     "data": {
      "image/png": "[encoded data removed]",
      "text/plain": [
       "<Figure size 432x288 with 1 Axes>"
      ]
     },
     "metadata": {},
     "output_type": "display_data"
    }
   ],
   "source": [
    "acc_monthly_occured_2016 = df[df.Start_Time.dt.year == 2016] # get the year 201\n",
    "sns.histplot(acc_monthly_occured_2016.Start_Time.dt.month, bins=11) # plot monthly accidents, bins=11 as January Data missing"
   ]
  },
  {
   "cell_type": "markdown",
   "id": "ced6785a",
   "metadata": {},
   "source": [
    "There is missing data from January 2016 and due to newly start of recording accidents the calculations might not be accurate at the beginning. Still need more research."
   ]
  },
  {
   "cell_type": "markdown",
   "id": "64dd1b05",
   "metadata": {},
   "source": [
    "# Yearly Accidents"
   ]
  },
  {
   "cell_type": "code",
   "execution_count": 30,
   "id": "3bed84b6",
   "metadata": {},
   "outputs": [
    {
     "data": {
      "text/plain": [
       "<AxesSubplot:xlabel='Start_Time', ylabel='Count'>"
      ]
     },
     "execution_count": 30,
     "metadata": {},
     "output_type": "execute_result"
    },
    {
     "data": {
      "image/png": "[encoded data removed]",
      "text/plain": [
       "<Figure size 432x288 with 1 Axes>"
      ]
     },
     "metadata": {},
     "output_type": "display_data"
    }
   ],
   "source": [
    "sns.histplot(df.Start_Time.dt.year, bins=5) # plot yearly accidents"
   ]
  },
  {
   "cell_type": "markdown",
   "id": "a5da85cb",
   "metadata": {},
   "source": [
    "There is missing data about January 2016 as mentioned in the dataset, so let use not consider 2016 for our analysis"
   ]
  },
  {
   "cell_type": "code",
   "execution_count": 31,
   "id": "06ffb7b9",
   "metadata": {},
   "outputs": [
    {
     "name": "stdout",
     "output_type": "stream",
     "text": [
      "Yearly Accidents after dropping 2016:\n",
      "\n"
     ]
    },
    {
     "data": {
      "text/plain": [
       "<AxesSubplot:xlabel='Start_Time', ylabel='Count'>"
      ]
     },
     "execution_count": 31,
     "metadata": {},
     "output_type": "execute_result"
    },
    {
     "data": {
      "image/png": "[encoded data removed]",
      "text/plain": [
       "<Figure size 432x288 with 1 Axes>"
      ]
     },
     "metadata": {},
     "output_type": "display_data"
    }
   ],
   "source": [
    "years_after_2016 = df[df.Start_Time.dt.year != 2016]\n",
    "print(\"Yearly Accidents after dropping 2016:\\n\")\n",
    "sns.histplot(years_after_2016.Start_Time.dt.year, bins=4) #not considering 2016"
   ]
  },
  {
   "cell_type": "markdown",
   "id": "e7b454a5",
   "metadata": {},
   "source": [
    "Observation: The number of accidents increased drastically in the year 2020. So let us analyze the year 2020 monthly to understand the reasons for this significant rise in the accidents."
   ]
  },
  {
   "cell_type": "markdown",
   "id": "952cc08d",
   "metadata": {},
   "source": [
    "# Analysis on Year 2020 / COVID 19 Pandemic"
   ]
  },
  {
   "cell_type": "code",
   "execution_count": 32,
   "id": "9842ee14",
   "metadata": {},
   "outputs": [
    {
     "data": {
      "image/png": "[encoded data removed]",
      "text/plain": [
       "<Figure size 432x288 with 1 Axes>"
      ]
     },
     "metadata": {},
     "output_type": "display_data"
    }
   ],
   "source": [
    "acc_monthly_occured_2020 = df[df.Start_Time.dt.year == 2020] # get the year 2020\n",
    "o = sns.histplot(acc_monthly_occured_2020.Start_Time.dt.month, bins=12) # plot monthly accidents\n",
    "o.set_yscale(\"log\")"
   ]
  },
  {
   "cell_type": "markdown",
   "id": "55bf32cf",
   "metadata": {},
   "source": [
    "Observations: \n",
    "1. The number of accidents at the beginning of the year show a stable increasing trend.\n",
    "2. In the month of July and August 2020 because of lockdown and restrictions of COVID 19 pandemic the accidents dropped significantly around 1000.\n",
    "3. There is a sudden spike in the number of accidents for which the reason might be the removal of lockdown restrictions tempting people to get out of their house."
   ]
  },
  {
   "cell_type": "markdown",
   "id": "f2769fee",
   "metadata": {},
   "source": [
    "# Start Latitude and Start Longitude"
   ]
  },
  {
   "cell_type": "code",
   "execution_count": 33,
   "id": "631c0280",
   "metadata": {},
   "outputs": [
    {
     "data": {
      "text/plain": [
       "0    40.10891\n",
       "1    39.86542\n",
       "2    39.10266\n",
       "3    39.10148\n",
       "4    41.06213\n",
       "Name: Start_Lat, dtype: float64"
      ]
     },
     "execution_count": 33,
     "metadata": {},
     "output_type": "execute_result"
    }
   ],
   "source": [
    "df.Start_Lat.head() #moves up and down"
   ]
  },
  {
   "cell_type": "code",
   "execution_count": 34,
   "id": "fc45cf2e",
   "metadata": {},
   "outputs": [
    {
     "data": {
      "text/plain": [
       "0   -83.09286\n",
       "1   -84.06280\n",
       "2   -84.52468\n",
       "3   -84.52341\n",
       "4   -81.53784\n",
       "Name: Start_Lng, dtype: float64"
      ]
     },
     "execution_count": 34,
     "metadata": {},
     "output_type": "execute_result"
    }
   ],
   "source": [
    "df.Start_Lng.head() #moves #left and right"
   ]
  },
  {
   "cell_type": "code",
   "execution_count": 35,
   "id": "39bcd87a",
   "metadata": {},
   "outputs": [
    {
     "data": {
      "text/plain": [
       "<AxesSubplot:xlabel='Start_Lng', ylabel='Start_Lat'>"
      ]
     },
     "execution_count": 35,
     "metadata": {},
     "output_type": "execute_result"
    },
    {
     "data": {
      "image/png": "[encoded data removed]",
      "text/plain": [
       "<Figure size 432x288 with 1 Axes>"
      ]
     },
     "metadata": {},
     "output_type": "display_data"
    }
   ],
   "source": [
    "test_sample = df.sample(int(0.01*len(df))) # 1 percent sample\n",
    "sns.scatterplot(x=test_sample.Start_Lng,y=test_sample.Start_Lat)"
   ]
  },
  {
   "cell_type": "markdown",
   "id": "76055c18",
   "metadata": {},
   "source": [
    "Observations:\n",
    "    Major Accidents occur around the coastal regions because major cities like Los Angelas, Miami, Houston and others lie in coastal regions."
   ]
  },
  {
   "cell_type": "markdown",
   "id": "c8d90494",
   "metadata": {},
   "source": [
    "# Insights / Findings from the Data"
   ]
  },
  {
   "cell_type": "markdown",
   "id": "6b4e7ff4",
   "metadata": {},
   "source": [
    "1. This dataset does not contain any data about New York being one of the highly populated cities.\n",
    "2. Only 15 % of cities have more than mean accident value which is 142 and less than 2.5% of the cities have reported more than 1000 accidents.\n",
    "3. 11 % of the cities have just 1 accident over 5 years.\n",
    "4. The number of accidents per city decreases exponentially.\n",
    "6. Most accidents occur from 4 to 6 pm, probably people going home after work causing heavy traffics.\n",
    "7. The next highest percentage of accidents is observed from 7 to 9 am, which might be because of people leaving for work early mornings.\n",
    "8. Major accidents occur in weekdays as there are fewer people travelling on weekends.\n",
    "9. If we observe the hourly accidents on week days and weekends they follow different trends. On weekdays it is observed that all the peak hours of accident are either between 7 to 9 am or 4 to 6 pm. While the pattern changes on weekends.\n",
    "10. In the weekends, it is observed that number of accidents is very high right from morning 10 am to next day 3 am. The reason behind this may be people go out more on weekends to relax and celebrate which is why it is evenly distributed till next day morning.\n",
    "11. It is observed that the data from year 2016  behaves differently as compared to others, therefore it needs more detailed investigation.\n",
    "12. The major accidents occur near the coastal areas where all the highly populated cities are located."
   ]
  },
  {
   "cell_type": "markdown",
   "id": "50a5d7dc",
   "metadata": {},
   "source": [
    "# Conclusion"
   ]
  },
  {
   "cell_type": "markdown",
   "id": "bad5ee60",
   "metadata": {},
   "source": [
    "Major accidents occured in highly populated cities where there is high traffic in rush hours. A good traffic management system will significantly reduce the number of accidents."
   ]
  },
  {
   "cell_type": "markdown",
   "id": "a22d171b",
   "metadata": {},
   "source": [
    "# Future Work"
   ]
  },
  {
   "cell_type": "markdown",
   "id": "3fae9a94",
   "metadata": {},
   "source": [
    "1. We can find the relation between the weather and the accidents.\n",
    "2. We can compare the number of accidents with Visibility factor.\n",
    "3. We can find city population dataset and then find the accident rate of each city.\n",
    "4. We can work on the sudden change in pattern after 2020 in more detail and find the reasons for it."
   ]
  }
 ],
 "metadata": {
  "kernelspec": {
   "display_name": "Python 3 (ipykernel)",
   "language": "python",
   "name": "python3"
  },
  "language_info": {
   "codemirror_mode": {
    "name": "ipython",
    "version": 3
   },
   "file_extension": ".py",
   "mimetype": "text/x-python",
   "name": "python",
   "nbconvert_exporter": "python",
   "pygments_lexer": "ipython3",
   "version": "3.9.7"
  }
 },
 "nbformat": 4,
 "nbformat_minor": 5
}
